{
 "cells": [
  {
   "cell_type": "code",
   "execution_count": null,
   "id": "90c10973",
   "metadata": {
    "_cell_guid": "b1076dfc-b9ad-4769-8c92-a6c4dae69d19",
    "_uuid": "8f2839f25d086af736a60e9eeb907d3b93b6e0e5",
    "execution": {
     "iopub.execute_input": "2023-07-15T17:40:03.348691Z",
     "iopub.status.busy": "2023-07-15T17:40:03.348286Z",
     "iopub.status.idle": "2023-07-15T17:40:03.362703Z",
     "shell.execute_reply": "2023-07-15T17:40:03.361893Z"
    },
    "papermill": {
     "duration": 0.020929,
     "end_time": "2023-07-15T17:40:03.364633",
     "exception": false,
     "start_time": "2023-07-15T17:40:03.343704",
     "status": "completed"
    },
    "tags": []
   },
   "outputs": [],
   "source": [
    "# This Python 3 environment comes with many helpful analytics libraries installed\n",
    "# It is defined by the kaggle/python Docker image: https://github.com/kaggle/docker-python\n",
    "# For example, here's several helpful packages to load\n",
    "\n",
    "import numpy as np # linear algebra\n",
    "import pandas as pd # data processing, CSV file I/O (e.g. pd.read_csv)\n",
    "\n",
    "# Input data files are available in the read-only \"../input/\" directory\n",
    "# For example, running this (by clicking run or pressing Shift+Enter) will list all files under the input directory\n",
    "\n",
    "import os\n",
    "for dirname, _, filenames in os.walk('/kaggle/input'):\n",
    "    for filename in filenames:\n",
    "        print(os.path.join(dirname, filename))\n",
    "\n",
    "# You can write up to 20GB to the current directory (/kaggle/working/) that gets preserved as output when you create a version using \"Save & Run All\" \n",
    "# You can also write temporary files to /kaggle/temp/, but they won't be saved outside of the current session"
   ]
  },
  {
   "cell_type": "code",
   "execution_count": null,
   "id": "16f33378",
   "metadata": {
    "execution": {
     "iopub.execute_input": "2023-07-15T17:40:03.372427Z",
     "iopub.status.busy": "2023-07-15T17:40:03.371034Z",
     "iopub.status.idle": "2023-07-15T17:40:06.000726Z",
     "shell.execute_reply": "2023-07-15T17:40:05.999541Z"
    },
    "papermill": {
     "duration": 2.63592,
     "end_time": "2023-07-15T17:40:06.003597",
     "exception": false,
     "start_time": "2023-07-15T17:40:03.367677",
     "status": "completed"
    },
    "tags": []
   },
   "outputs": [],
   "source": [
    "!git clone https://github.com/nihal-rao/squad.git"
   ]
  },
  {
   "cell_type": "code",
   "execution_count": null,
   "id": "7bd354fd",
   "metadata": {
    "execution": {
     "iopub.execute_input": "2023-07-15T17:40:06.013021Z",
     "iopub.status.busy": "2023-07-15T17:40:06.012172Z",
     "iopub.status.idle": "2023-07-15T17:40:06.019378Z",
     "shell.execute_reply": "2023-07-15T17:40:06.018105Z"
    },
    "papermill": {
     "duration": 0.014176,
     "end_time": "2023-07-15T17:40:06.021406",
     "exception": false,
     "start_time": "2023-07-15T17:40:06.007230",
     "status": "completed"
    },
    "tags": []
   },
   "outputs": [],
   "source": [
    "%cd squad"
   ]
  },
  {
   "cell_type": "code",
   "execution_count": null,
   "id": "a19c3b93",
   "metadata": {
    "execution": {
     "iopub.execute_input": "2023-07-15T17:40:06.029536Z",
     "iopub.status.busy": "2023-07-15T17:40:06.029236Z",
     "iopub.status.idle": "2023-07-15T17:40:07.361139Z",
     "shell.execute_reply": "2023-07-15T17:40:07.359987Z"
    },
    "papermill": {
     "duration": 1.338975,
     "end_time": "2023-07-15T17:40:07.363672",
     "exception": false,
     "start_time": "2023-07-15T17:40:06.024697",
     "status": "completed"
    },
    "tags": []
   },
   "outputs": [],
   "source": [
    "!git pull"
   ]
  },
  {
   "cell_type": "code",
   "execution_count": null,
   "id": "68ad3f46",
   "metadata": {
    "execution": {
     "iopub.execute_input": "2023-07-15T17:40:07.373047Z",
     "iopub.status.busy": "2023-07-15T17:40:07.372459Z",
     "iopub.status.idle": "2023-07-15T17:40:08.501691Z",
     "shell.execute_reply": "2023-07-15T17:40:08.500531Z"
    },
    "papermill": {
     "duration": 1.136649,
     "end_time": "2023-07-15T17:40:08.504041",
     "exception": false,
     "start_time": "2023-07-15T17:40:07.367392",
     "status": "completed"
    },
    "tags": []
   },
   "outputs": [],
   "source": [
    "!git checkout ans-ptr"
   ]
  },
  {
   "cell_type": "code",
   "execution_count": null,
   "id": "f569c93f",
   "metadata": {
    "execution": {
     "iopub.execute_input": "2023-07-15T17:40:08.513123Z",
     "iopub.status.busy": "2023-07-15T17:40:08.512800Z",
     "iopub.status.idle": "2023-07-15T17:54:58.518407Z",
     "shell.execute_reply": "2023-07-15T17:54:58.517165Z"
    },
    "papermill": {
     "duration": 890.013836,
     "end_time": "2023-07-15T17:54:58.521719",
     "exception": false,
     "start_time": "2023-07-15T17:40:08.507883",
     "status": "completed"
    },
    "tags": []
   },
   "outputs": [],
   "source": [
    "!python setup.py"
   ]
  },
  {
   "cell_type": "code",
   "execution_count": null,
   "id": "d83ec7d0",
   "metadata": {
    "execution": {
     "iopub.execute_input": "2023-07-15T17:55:00.159922Z",
     "iopub.status.busy": "2023-07-15T17:55:00.159480Z",
     "iopub.status.idle": "2023-07-15T20:26:32.676305Z",
     "shell.execute_reply": "2023-07-15T20:26:32.675067Z"
    },
    "papermill": {
     "duration": 9093.449748,
     "end_time": "2023-07-15T20:26:32.678924",
     "exception": false,
     "start_time": "2023-07-15T17:54:59.229176",
     "status": "completed"
    },
    "tags": []
   },
   "outputs": [],
   "source": [
    "!python train.py -n 'ans-ptr_with_more_epochs_and_cosine_sched' --num_workers 2 --eval_steps 100000"
   ]
  }
 ],
 "metadata": {
  "kernelspec": {
   "display_name": "Python 3 (ipykernel)",
   "language": "python",
   "name": "python3"
  },
  "language_info": {
   "codemirror_mode": {
    "name": "ipython",
    "version": 3
   },
   "file_extension": ".py",
   "mimetype": "text/x-python",
   "name": "python",
   "nbconvert_exporter": "python",
   "pygments_lexer": "ipython3",
   "version": "3.8.16"
  },
  "papermill": {
   "default_parameters": {},
   "duration": 10005.57368,
   "end_time": "2023-07-15T20:26:38.212411",
   "environment_variables": {},
   "exception": null,
   "input_path": "__notebook__.ipynb",
   "output_path": "__notebook__.ipynb",
   "parameters": {},
   "start_time": "2023-07-15T17:39:52.638731",
   "version": "2.4.0"
  }
 },
 "nbformat": 4,
 "nbformat_minor": 5
}
